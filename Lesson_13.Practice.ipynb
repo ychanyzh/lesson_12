{
 "cells": [
  {
   "cell_type": "markdown",
   "metadata": {},
   "source": [
    "1. Write a decorator that ensures a function is only called by users with a\n",
    " specific role. Each function should have an user_type with a string \n",
    "type in kwargs."
   ]
  },
  {
   "cell_type": "code",
   "execution_count": 144,
   "metadata": {},
   "outputs": [],
   "source": [
    "import functools\n",
    "\n",
    "def is_admin(func):\n",
    "    @functools.wraps(func) # Preserve the function metadata\n",
    "    def wrapper(*args, **kwargs):\n",
    "        user_type = kwargs.get('user_type')\n",
    "        if user_type == 'admin':\n",
    "            return func(*args, **kwargs)\n",
    "        else:\n",
    "            raise ValueError('Permission denied')\n",
    "    return wrapper\n"
   ]
  },
  {
   "cell_type": "code",
   "execution_count": 142,
   "metadata": {},
   "outputs": [
    {
     "name": "stdout",
     "output_type": "stream",
     "text": [
      "Hello World!\n",
      "Permission denied\n"
     ]
    }
   ],
   "source": [
    "@is_admin\n",
    "def show_customer_receipt(user_type: str):\n",
    "    # Some very dangerous operation\n",
    "    return('Hello World!')\n",
    "\n",
    "result = show_customer_receipt(user_type='admin')\n",
    "print(result)\n",
    "\n",
    "try:\n",
    "    result = show_customer_receipt(user_type='user')\n",
    "    print(result)\n",
    "except ValueError as e:\n",
    "    print(e)\n"
   ]
  },
  {
   "cell_type": "markdown",
   "metadata": {},
   "source": [
    "2. Write a decorator that wraps a function in a try-except block and prints an error if any type of error has happened."
   ]
  },
  {
   "cell_type": "code",
   "execution_count": 181,
   "metadata": {},
   "outputs": [],
   "source": [
    "def catch_errors(func):\n",
    "    @functools.wraps(func) # Preserve the function metadata\n",
    "    def wrapper(*args, **kwargs):\n",
    "        try:\n",
    "            return func(*args, **kwargs)\n",
    "        except Exception as e:\n",
    "            print(f\"Found 1 error during execution of your function: {e.__class__.__name__} - {e}\")\n",
    "    return wrapper"
   ]
  },
  {
   "cell_type": "code",
   "execution_count": 182,
   "metadata": {},
   "outputs": [
    {
     "name": "stdout",
     "output_type": "stream",
     "text": [
      "Found 1 error during execution of your function: KeyError - 'key'\n",
      "bar\n"
     ]
    }
   ],
   "source": [
    "@catch_errors\n",
    "def some_function_with_risky_operation(data):\n",
    "    print(data['key'])\n",
    "\n",
    "\n",
    "some_function_with_risky_operation({'foo': 'bar'})\n",
    "# Found 1 error during execution of your function: KeyError no such key as foo\n",
    "\n",
    "some_function_with_risky_operation({'key': 'bar'})\n",
    "# bar"
   ]
  },
  {
   "cell_type": "markdown",
   "metadata": {},
   "source": [
    "3. Optional: Create a decorator that will check types. It should take a function with arguments and validate inputs with annotations. It should work for all possible functions. Don`t forget to check the return type as well."
   ]
  },
  {
   "cell_type": "code",
   "execution_count": 200,
   "metadata": {},
   "outputs": [],
   "source": [
    "from typing import Callable, Any, Type, get_type_hints\n",
    "\n",
    "def check_types(func: Callable) -> Callable:\n",
    "    @functools.wraps(func) # Preserve the function metadata\n",
    "    def wrapper(*args: Any, **kwargs: Any) -> Any:\n",
    "        # Get the type hints from the function annotations\n",
    "        hints = get_type_hints(func)\n",
    "        \n",
    "        # Check argument types\n",
    "        for arg_name, arg_value in zip(func.__code__.co_varnames, args):\n",
    "            if arg_name in hints:\n",
    "                expected_type = hints[arg_name]\n",
    "                if not isinstance(arg_value, expected_type):\n",
    "                    raise TypeError(f\"Argument {arg_name} must be {expected_type.__name__}, not {type(arg_value).__name__}\")\n",
    "        \n",
    "        # Call the original function\n",
    "        result = func(*args, **kwargs)\n",
    "        \n",
    "        # Check return type\n",
    "        if 'return' in hints:\n",
    "            expected_return_type = hints['return']\n",
    "            if not isinstance(result, expected_return_type):\n",
    "                raise TypeError(f\"Return value must be {expected_return_type.__name__}, not {type(result).__name__}\")\n",
    "        \n",
    "        return result\n",
    "    \n",
    "    return wrapper"
   ]
  },
  {
   "cell_type": "code",
   "execution_count": 208,
   "metadata": {},
   "outputs": [
    {
     "ename": "TypeError",
     "evalue": "Argument a must be int, not str",
     "output_type": "error",
     "traceback": [
      "\u001b[0;31m---------------------------------------------------------------------------\u001b[0m",
      "\u001b[0;31mTypeError\u001b[0m                                 Traceback (most recent call last)",
      "Cell \u001b[0;32mIn[208], line 9\u001b[0m\n\u001b[1;32m      6\u001b[0m add(\u001b[39m1\u001b[39m, \u001b[39m2\u001b[39m)\n\u001b[1;32m      7\u001b[0m \u001b[39m# 3\u001b[39;00m\n\u001b[0;32m----> 9\u001b[0m add(\u001b[39m\"\u001b[39;49m\u001b[39m1\u001b[39;49m\u001b[39m\"\u001b[39;49m, \u001b[39m\"\u001b[39;49m\u001b[39m2\u001b[39;49m\u001b[39m\"\u001b[39;49m)\n\u001b[1;32m     10\u001b[0m \u001b[39m# TypeError: Argument a must be int, not str\u001b[39;00m\n\u001b[1;32m     12\u001b[0m \u001b[39massert\u001b[39;00m add(\u001b[39m1\u001b[39m, \u001b[39m2\u001b[39m) \u001b[39m==\u001b[39m \u001b[39m'\u001b[39m\u001b[39m3\u001b[39m\u001b[39m'\u001b[39m\n",
      "Cell \u001b[0;32mIn[200], line 14\u001b[0m, in \u001b[0;36mcheck_types.<locals>.wrapper\u001b[0;34m(*args, **kwargs)\u001b[0m\n\u001b[1;32m     12\u001b[0m         expected_type \u001b[39m=\u001b[39m hints[arg_name]\n\u001b[1;32m     13\u001b[0m         \u001b[39mif\u001b[39;00m \u001b[39mnot\u001b[39;00m \u001b[39misinstance\u001b[39m(arg_value, expected_type):\n\u001b[0;32m---> 14\u001b[0m             \u001b[39mraise\u001b[39;00m \u001b[39mTypeError\u001b[39;00m(\u001b[39mf\u001b[39m\u001b[39m\"\u001b[39m\u001b[39mArgument \u001b[39m\u001b[39m{\u001b[39;00marg_name\u001b[39m}\u001b[39;00m\u001b[39m must be \u001b[39m\u001b[39m{\u001b[39;00mexpected_type\u001b[39m.\u001b[39m\u001b[39m__name__\u001b[39m\u001b[39m}\u001b[39;00m\u001b[39m, not \u001b[39m\u001b[39m{\u001b[39;00m\u001b[39mtype\u001b[39m(arg_value)\u001b[39m.\u001b[39m\u001b[39m__name__\u001b[39m\u001b[39m}\u001b[39;00m\u001b[39m\"\u001b[39m)\n\u001b[1;32m     16\u001b[0m \u001b[39m# Call the original function\u001b[39;00m\n\u001b[1;32m     17\u001b[0m result \u001b[39m=\u001b[39m func(\u001b[39m*\u001b[39margs, \u001b[39m*\u001b[39m\u001b[39m*\u001b[39mkwargs)\n",
      "\u001b[0;31mTypeError\u001b[0m: Argument a must be int, not str"
     ]
    }
   ],
   "source": [
    "@check_types\n",
    "def add(a: int, b: int) -> int:\n",
    "    return a + b\n",
    "    # return str(a + b) # To check return type\n",
    "\n",
    "add(1, 2)\n",
    "# 3\n",
    "\n",
    "add(\"1\", \"2\")\n",
    "# TypeError: Argument a must be int, not str\n",
    "\n",
    "assert add(1, 2) == '3'"
   ]
  },
  {
   "cell_type": "markdown",
   "metadata": {},
   "source": [
    "4. Optional. Create a function that caches the result of a function, so that if it is called with the same argument multiple times, it returns the cached result first instead of re-executing the function."
   ]
  },
  {
   "cell_type": "code",
   "execution_count": 211,
   "metadata": {},
   "outputs": [
    {
     "name": "stdout",
     "output_type": "stream",
     "text": [
      "Executing expensive_function...\n",
      "Result 1: 5\n",
      "Result 2: 5\n",
      "Executing expensive_function...\n",
      "Result 3: 9\n"
     ]
    }
   ],
   "source": [
    "def cache_decorator(func):\n",
    "    cache = {}\n",
    "\n",
    "    @functools.wraps(func)\n",
    "    def wrapper(*args, **kwargs):\n",
    "        key = (args, tuple(kwargs.items()))\n",
    "        \n",
    "        if key in cache:\n",
    "            return cache[key]\n",
    "        else:\n",
    "            result = func(*args, **kwargs)\n",
    "            cache[key] = result\n",
    "            return result\n",
    "    \n",
    "    return wrapper\n",
    "\n",
    "@cache_decorator\n",
    "def expensive_function(x, y):\n",
    "    print(\"Executing expensive_function...\")\n",
    "    return x + y\n",
    "\n",
    "result1 = expensive_function(2, 3)\n",
    "print(\"Result 1:\", result1)\n",
    "\n",
    "result2 = expensive_function(2, 3)  # This time, the result will be cached\n",
    "print(\"Result 2:\", result2)\n",
    "\n",
    "result3 = expensive_function(4, 5)  # This will trigger the execution again\n",
    "print(\"Result 3:\", result3)\n"
   ]
  },
  {
   "cell_type": "markdown",
   "metadata": {},
   "source": [
    "5. Optional. Write a decorator that adds a rate-limiter to a function, so that it can only be called a certain amount of times per minute"
   ]
  },
  {
   "cell_type": "code",
   "execution_count": 210,
   "metadata": {},
   "outputs": [
    {
     "name": "stdout",
     "output_type": "stream",
     "text": [
      "Function called\n",
      "Function called\n",
      "Function called\n",
      "Function called\n",
      "Function called\n"
     ]
    },
    {
     "ename": "KeyboardInterrupt",
     "evalue": "",
     "output_type": "error",
     "traceback": [
      "\u001b[0;31m---------------------------------------------------------------------------\u001b[0m",
      "\u001b[0;31mKeyboardInterrupt\u001b[0m                         Traceback (most recent call last)",
      "Cell \u001b[0;32mIn[210], line 44\u001b[0m\n\u001b[1;32m     42\u001b[0m \u001b[39m# Test the rate-limited function\u001b[39;00m\n\u001b[1;32m     43\u001b[0m \u001b[39mfor\u001b[39;00m i \u001b[39min\u001b[39;00m \u001b[39mrange\u001b[39m(\u001b[39m10\u001b[39m):\n\u001b[0;32m---> 44\u001b[0m     my_function()\n\u001b[1;32m     45\u001b[0m     time\u001b[39m.\u001b[39msleep(\u001b[39m5\u001b[39m)\n",
      "Cell \u001b[0;32mIn[210], line 23\u001b[0m, in \u001b[0;36mrate_limiter.<locals>.decorator.<locals>.wrapper\u001b[0;34m(*args, **kwargs)\u001b[0m\n\u001b[1;32m     21\u001b[0m \u001b[39mif\u001b[39;00m call_count[\u001b[39m0\u001b[39m] \u001b[39m>\u001b[39m\u001b[39m=\u001b[39m max_calls:\n\u001b[1;32m     22\u001b[0m     wait_time \u001b[39m=\u001b[39m interval \u001b[39m-\u001b[39m elapsed_time\n\u001b[0;32m---> 23\u001b[0m     time\u001b[39m.\u001b[39;49msleep(wait_time)\n\u001b[1;32m     24\u001b[0m     last_called[\u001b[39m0\u001b[39m] \u001b[39m=\u001b[39m current_time\n\u001b[1;32m     25\u001b[0m     call_count[\u001b[39m0\u001b[39m] \u001b[39m=\u001b[39m \u001b[39m1\u001b[39m\n",
      "\u001b[0;31mKeyboardInterrupt\u001b[0m: "
     ]
    }
   ],
   "source": [
    "import time\n",
    "\n",
    "def rate_limiter(max_calls, interval):\n",
    "    \"\"\"\n",
    "    A decorator to limit the rate at which a function can be called.\n",
    "    \n",
    "    Args:\n",
    "        max_calls (int): Maximum number of calls allowed within the specified interval.\n",
    "        interval (float): Time interval in seconds.\n",
    "    \"\"\"\n",
    "    def decorator(func):\n",
    "        last_called = [0]\n",
    "        call_count = [0]\n",
    "\n",
    "        @functools.wraps(func)\n",
    "        def wrapper(*args, **kwargs):\n",
    "            current_time = time.time()\n",
    "            elapsed_time = current_time - last_called[0]\n",
    "            \n",
    "            if elapsed_time < interval:\n",
    "                if call_count[0] >= max_calls:\n",
    "                    wait_time = interval - elapsed_time\n",
    "                    time.sleep(wait_time)\n",
    "                    last_called[0] = current_time\n",
    "                    call_count[0] = 1\n",
    "                else:\n",
    "                    call_count[0] += 1\n",
    "            else:\n",
    "                last_called[0] = current_time\n",
    "                call_count[0] = 1\n",
    "            \n",
    "            return func(*args, **kwargs)\n",
    "        \n",
    "        return wrapper\n",
    "    return decorator\n",
    "\n",
    "\n",
    "@rate_limiter(max_calls=5, interval=60)  # Allow 5 calls per minute\n",
    "def my_function():\n",
    "    print(\"Function called\")\n",
    "\n",
    "# Test the rate-limited function\n",
    "for i in range(10):\n",
    "    my_function()\n",
    "    time.sleep(5)  # Simulate some time between function calls\n"
   ]
  }
 ],
 "metadata": {
  "kernelspec": {
   "display_name": "base",
   "language": "python",
   "name": "python3"
  },
  "language_info": {
   "codemirror_mode": {
    "name": "ipython",
    "version": 3
   },
   "file_extension": ".py",
   "mimetype": "text/x-python",
   "name": "python",
   "nbconvert_exporter": "python",
   "pygments_lexer": "ipython3",
   "version": "3.10.9"
  },
  "orig_nbformat": 4
 },
 "nbformat": 4,
 "nbformat_minor": 2
}
